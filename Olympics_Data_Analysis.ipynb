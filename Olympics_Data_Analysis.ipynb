{
  "nbformat": 4,
  "nbformat_minor": 0,
  "metadata": {
    "colab": {
      "name": "Olympics Data Analysis.ipynb",
      "provenance": []
    },
    "kernelspec": {
      "display_name": "Python 3",
      "name": "python3"
    },
    "language_info": {
      "name": "python"
    }
  },
  "cells": [
    {
      "cell_type": "code",
      "metadata": {
        "id": "Bav7okpsNKhp"
      },
      "source": [
        "import pandas as pd\n",
        "import matplotlib.pyplot as pyt"
      ],
      "execution_count": 4,
      "outputs": []
    },
    {
      "cell_type": "code",
      "metadata": {
        "id": "w7SX3AhnNnFV"
      },
      "source": [
        "df = pd.read_csv('OLYMPICS.csv')"
      ],
      "execution_count": 5,
      "outputs": []
    },
    {
      "cell_type": "code",
      "metadata": {
        "colab": {
          "base_uri": "https://localhost:8080/",
          "height": 417
        },
        "id": "QEWyCcu7N58q",
        "outputId": "26826c5c-0527-439a-a267-40bcc0ec15bc"
      },
      "source": [
        "df"
      ],
      "execution_count": 6,
      "outputs": [
        {
          "output_type": "execute_result",
          "data": {
            "text/html": [
              "<div>\n",
              "<style scoped>\n",
              "    .dataframe tbody tr th:only-of-type {\n",
              "        vertical-align: middle;\n",
              "    }\n",
              "\n",
              "    .dataframe tbody tr th {\n",
              "        vertical-align: top;\n",
              "    }\n",
              "\n",
              "    .dataframe thead th {\n",
              "        text-align: right;\n",
              "    }\n",
              "</style>\n",
              "<table border=\"1\" class=\"dataframe\">\n",
              "  <thead>\n",
              "    <tr style=\"text-align: right;\">\n",
              "      <th></th>\n",
              "      <th>Year</th>\n",
              "      <th>City</th>\n",
              "      <th>Sport</th>\n",
              "      <th>Discipline</th>\n",
              "      <th>Athlete</th>\n",
              "      <th>Country</th>\n",
              "      <th>Gender</th>\n",
              "      <th>Event</th>\n",
              "      <th>Medal</th>\n",
              "    </tr>\n",
              "  </thead>\n",
              "  <tbody>\n",
              "    <tr>\n",
              "      <th>0</th>\n",
              "      <td>1896</td>\n",
              "      <td>Athens</td>\n",
              "      <td>Aquatics</td>\n",
              "      <td>Swimming</td>\n",
              "      <td>HAJOS, Alfred</td>\n",
              "      <td>HUN</td>\n",
              "      <td>Men</td>\n",
              "      <td>100M Freestyle</td>\n",
              "      <td>Gold</td>\n",
              "    </tr>\n",
              "    <tr>\n",
              "      <th>1</th>\n",
              "      <td>1896</td>\n",
              "      <td>Athens</td>\n",
              "      <td>Aquatics</td>\n",
              "      <td>Swimming</td>\n",
              "      <td>HERSCHMANN, Otto</td>\n",
              "      <td>AUT</td>\n",
              "      <td>Men</td>\n",
              "      <td>100M Freestyle</td>\n",
              "      <td>Silver</td>\n",
              "    </tr>\n",
              "    <tr>\n",
              "      <th>2</th>\n",
              "      <td>1896</td>\n",
              "      <td>Athens</td>\n",
              "      <td>Aquatics</td>\n",
              "      <td>Swimming</td>\n",
              "      <td>DRIVAS, Dimitrios</td>\n",
              "      <td>GRE</td>\n",
              "      <td>Men</td>\n",
              "      <td>100M Freestyle For Sailors</td>\n",
              "      <td>Bronze</td>\n",
              "    </tr>\n",
              "    <tr>\n",
              "      <th>3</th>\n",
              "      <td>1896</td>\n",
              "      <td>Athens</td>\n",
              "      <td>Aquatics</td>\n",
              "      <td>Swimming</td>\n",
              "      <td>MALOKINIS, Ioannis</td>\n",
              "      <td>GRE</td>\n",
              "      <td>Men</td>\n",
              "      <td>100M Freestyle For Sailors</td>\n",
              "      <td>Gold</td>\n",
              "    </tr>\n",
              "    <tr>\n",
              "      <th>4</th>\n",
              "      <td>1896</td>\n",
              "      <td>Athens</td>\n",
              "      <td>Aquatics</td>\n",
              "      <td>Swimming</td>\n",
              "      <td>CHASAPIS, Spiridon</td>\n",
              "      <td>GRE</td>\n",
              "      <td>Men</td>\n",
              "      <td>100M Freestyle For Sailors</td>\n",
              "      <td>Silver</td>\n",
              "    </tr>\n",
              "    <tr>\n",
              "      <th>...</th>\n",
              "      <td>...</td>\n",
              "      <td>...</td>\n",
              "      <td>...</td>\n",
              "      <td>...</td>\n",
              "      <td>...</td>\n",
              "      <td>...</td>\n",
              "      <td>...</td>\n",
              "      <td>...</td>\n",
              "      <td>...</td>\n",
              "    </tr>\n",
              "    <tr>\n",
              "      <th>31160</th>\n",
              "      <td>2012</td>\n",
              "      <td>London</td>\n",
              "      <td>Wrestling</td>\n",
              "      <td>Wrestling Freestyle</td>\n",
              "      <td>JANIKOWSKI, Damian</td>\n",
              "      <td>POL</td>\n",
              "      <td>Men</td>\n",
              "      <td>Wg 84 KG</td>\n",
              "      <td>Bronze</td>\n",
              "    </tr>\n",
              "    <tr>\n",
              "      <th>31161</th>\n",
              "      <td>2012</td>\n",
              "      <td>London</td>\n",
              "      <td>Wrestling</td>\n",
              "      <td>Wrestling Freestyle</td>\n",
              "      <td>REZAEI, Ghasem Gholamreza</td>\n",
              "      <td>IRI</td>\n",
              "      <td>Men</td>\n",
              "      <td>Wg 96 KG</td>\n",
              "      <td>Gold</td>\n",
              "    </tr>\n",
              "    <tr>\n",
              "      <th>31162</th>\n",
              "      <td>2012</td>\n",
              "      <td>London</td>\n",
              "      <td>Wrestling</td>\n",
              "      <td>Wrestling Freestyle</td>\n",
              "      <td>TOTROV, Rustam</td>\n",
              "      <td>RUS</td>\n",
              "      <td>Men</td>\n",
              "      <td>Wg 96 KG</td>\n",
              "      <td>Silver</td>\n",
              "    </tr>\n",
              "    <tr>\n",
              "      <th>31163</th>\n",
              "      <td>2012</td>\n",
              "      <td>London</td>\n",
              "      <td>Wrestling</td>\n",
              "      <td>Wrestling Freestyle</td>\n",
              "      <td>ALEKSANYAN, Artur</td>\n",
              "      <td>ARM</td>\n",
              "      <td>Men</td>\n",
              "      <td>Wg 96 KG</td>\n",
              "      <td>Bronze</td>\n",
              "    </tr>\n",
              "    <tr>\n",
              "      <th>31164</th>\n",
              "      <td>2012</td>\n",
              "      <td>London</td>\n",
              "      <td>Wrestling</td>\n",
              "      <td>Wrestling Freestyle</td>\n",
              "      <td>LIDBERG, Jimmy</td>\n",
              "      <td>SWE</td>\n",
              "      <td>Men</td>\n",
              "      <td>Wg 96 KG</td>\n",
              "      <td>Bronze</td>\n",
              "    </tr>\n",
              "  </tbody>\n",
              "</table>\n",
              "<p>31165 rows × 9 columns</p>\n",
              "</div>"
            ],
            "text/plain": [
              "       Year    City      Sport  ... Gender                       Event   Medal\n",
              "0      1896  Athens   Aquatics  ...    Men              100M Freestyle    Gold\n",
              "1      1896  Athens   Aquatics  ...    Men              100M Freestyle  Silver\n",
              "2      1896  Athens   Aquatics  ...    Men  100M Freestyle For Sailors  Bronze\n",
              "3      1896  Athens   Aquatics  ...    Men  100M Freestyle For Sailors    Gold\n",
              "4      1896  Athens   Aquatics  ...    Men  100M Freestyle For Sailors  Silver\n",
              "...     ...     ...        ...  ...    ...                         ...     ...\n",
              "31160  2012  London  Wrestling  ...    Men                    Wg 84 KG  Bronze\n",
              "31161  2012  London  Wrestling  ...    Men                    Wg 96 KG    Gold\n",
              "31162  2012  London  Wrestling  ...    Men                    Wg 96 KG  Silver\n",
              "31163  2012  London  Wrestling  ...    Men                    Wg 96 KG  Bronze\n",
              "31164  2012  London  Wrestling  ...    Men                    Wg 96 KG  Bronze\n",
              "\n",
              "[31165 rows x 9 columns]"
            ]
          },
          "metadata": {},
          "execution_count": 6
        }
      ]
    },
    {
      "cell_type": "code",
      "metadata": {
        "colab": {
          "base_uri": "https://localhost:8080/"
        },
        "id": "v49bD2htN-Nx",
        "outputId": "ec69945a-f477-43b0-e643-225785aff6f7"
      },
      "source": [
        "df.isnull().sum()"
      ],
      "execution_count": 7,
      "outputs": [
        {
          "output_type": "execute_result",
          "data": {
            "text/plain": [
              "Year          0\n",
              "City          0\n",
              "Sport         0\n",
              "Discipline    0\n",
              "Athlete       0\n",
              "Country       4\n",
              "Gender        0\n",
              "Event         0\n",
              "Medal         0\n",
              "dtype: int64"
            ]
          },
          "metadata": {},
          "execution_count": 7
        }
      ]
    },
    {
      "cell_type": "markdown",
      "metadata": {
        "id": "ykwiSINYOF2z"
      },
      "source": [
        "# 1. IN HOW MANY COUNTRIES SUMMER OLYMPICS IS HELD SO FAR?"
      ]
    },
    {
      "cell_type": "code",
      "metadata": {
        "colab": {
          "base_uri": "https://localhost:8080/"
        },
        "id": "GydJ172OOkJm",
        "outputId": "e09fcf5b-0c7f-4c80-a7cb-d99c1e911201"
      },
      "source": [
        "y = len(df['Country'].unique())\n",
        "print('IN' ,y , 'COUNTRIES SUMMER OLYMPICS IS HELD SO FAR.')"
      ],
      "execution_count": 8,
      "outputs": [
        {
          "output_type": "stream",
          "name": "stdout",
          "text": [
            "IN 148 COUNTRIES SUMMER OLYMPICS IS HELD SO FAR.\n"
          ]
        }
      ]
    },
    {
      "cell_type": "markdown",
      "metadata": {
        "id": "mbk55dMAPIiO"
      },
      "source": [
        "# 2. WHICH SPORT IS HAVING MOST NUMBER OF GOLD MEDALS SO FAR?(Top 5)"
      ]
    },
    {
      "cell_type": "code",
      "metadata": {
        "colab": {
          "base_uri": "https://localhost:8080/",
          "height": 534
        },
        "id": "_zR8CZdNbMlC",
        "outputId": "8bca6224-371e-4b9b-dc3b-ddc462ce2084"
      },
      "source": [
        "data = []\n",
        "sg = df[df['Medal'] == 'Gold']\n",
        "\n",
        "for k in sg['Sport'].unique():\n",
        "  data.append([k , len(sg[sg['Sport']== k])])\n",
        "\n",
        "data = pd.DataFrame(data, columns = ['Sport', 'No. of Gold Medals'])\n",
        "data = data.sort_values(by = 'No. of Gold Medals' , ascending = False ).head()\n",
        "print('TOP 5 SPORT HAVING MOST NUMBER OF GOLD MEDALS SO FAR ARE:')\n",
        "print(data)\n",
        "print('')\n",
        "data.plot(x = 'Sport' , y ='No. of Gold Medals' , kind='bar' , figsize=(15,5))\n"
      ],
      "execution_count": 11,
      "outputs": [
        {
          "output_type": "stream",
          "name": "stdout",
          "text": [
            "TOP 5 SPORT HAVING MOST NUMBER OF GOLD MEDALS SO FAR ARE:\n",
            "         Sport  No. of Gold Medals\n",
            "0     Aquatics                1421\n",
            "1    Athletics                1215\n",
            "17      Rowing                 890\n",
            "4   Gymnastics                 820\n",
            "3      Fencing                 552\n",
            "\n"
          ]
        },
        {
          "output_type": "execute_result",
          "data": {
            "text/plain": [
              "<matplotlib.axes._subplots.AxesSubplot at 0x7f6aa7891990>"
            ]
          },
          "metadata": {},
          "execution_count": 11
        },
        {
          "output_type": "display_data",
          "data": {
            "image/png": "[encoded data removed]",
            "text/plain": [
              "<Figure size 1080x360 with 1 Axes>"
            ]
          },
          "metadata": {
            "needs_background": "light"
          }
        }
      ]
    },
    {
      "cell_type": "markdown",
      "metadata": {
        "id": "Vi_C3H1rmxPL"
      },
      "source": [
        "# 3.WHICH SPORT IS HAVING MOST NUMBER OF MEDAL SO FAR? (TOP 5)"
      ]
    },
    {
      "cell_type": "code",
      "metadata": {
        "colab": {
          "base_uri": "https://localhost:8080/",
          "height": 517
        },
        "id": "ESWqsAOPm-2D",
        "outputId": "e9c71abe-3513-474e-8364-ff1543acaa00"
      },
      "source": [
        "D =[]\n",
        "for k in df['Sport'].unique():\n",
        "  D.append([k , len(df[df['Sport']== k])])\n",
        "\n",
        "\n",
        "D = pd.DataFrame(D, columns = ['Sport', 'No. of Medals'])\n",
        "D = D.sort_values(by = 'No. of Medals' , ascending = False ).head()\n",
        "print(\"THE SPORT HAVING MOST NUMBER OF MEDALS SO FAR ARE:\")\n",
        "print(D)\n",
        "D.plot(x = 'Sport' , y ='No. of Medals' , kind='bar' , figsize=(15,5), color = \"green\")"
      ],
      "execution_count": 12,
      "outputs": [
        {
          "output_type": "stream",
          "name": "stdout",
          "text": [
            "THE SPORT HAVING MOST NUMBER OF MEDALS SO FAR ARE:\n",
            "         Sport  No. of Medals\n",
            "0     Aquatics           4170\n",
            "1    Athletics           3638\n",
            "17      Rowing           2667\n",
            "4   Gymnastics           2307\n",
            "3      Fencing           1613\n"
          ]
        },
        {
          "output_type": "execute_result",
          "data": {
            "text/plain": [
              "<matplotlib.axes._subplots.AxesSubplot at 0x7f6aa7731fd0>"
            ]
          },
          "metadata": {},
          "execution_count": 12
        },
        {
          "output_type": "display_data",
          "data": {
            "image/png": "[encoded data removed]",
            "text/plain": [
              "<Figure size 1080x360 with 1 Axes>"
            ]
          },
          "metadata": {
            "needs_background": "light"
          }
        }
      ]
    },
    {
      "cell_type": "markdown",
      "metadata": {
        "id": "Zt2sYUazowgB"
      },
      "source": [
        "# 4.WHICH PLAYER HAS WON MOST NUMBER OF MEDALS"
      ]
    },
    {
      "cell_type": "code",
      "metadata": {
        "colab": {
          "base_uri": "https://localhost:8080/",
          "height": 469
        },
        "id": "BtZsjWHRo3-v",
        "outputId": "48d746e7-83a6-4827-b75d-3682e48db076"
      },
      "source": [
        "A =[]\n",
        "\n",
        "for k in df['Athlete'].unique():\n",
        "  A.append([k , len(df[df['Athlete']== k])])\n",
        "\n",
        "\n",
        "\n",
        "A = pd.DataFrame(A, columns = ['Athlete', 'No. of Medals'])\n",
        "A = A.sort_values(by = 'No. of Medals' , ascending = False ).head()\n",
        "print(\"THE PLAYERS HAVING MOST NUMBER OF MEDALS ARE:\")\n",
        "print(A)\n",
        "A.plot(x = 'Athlete' , y ='No. of Medals'  , figsize=(15,5),color =\"black\")"
      ],
      "execution_count": 15,
      "outputs": [
        {
          "output_type": "stream",
          "name": "stdout",
          "text": [
            "THE PLAYERS HAVING MOST NUMBER OF MEDALS ARE:\n",
            "                    Athlete  No. of Medals\n",
            "18640       PHELPS, Michael             22\n",
            "7197       LATYNINA, Larisa             18\n",
            "9948     ANDRIANOV, Nikolay             15\n",
            "6591           ONO, Takashi             13\n",
            "5103   MANGIAROTTI, Edoardo             13\n"
          ]
        },
        {
          "output_type": "execute_result",
          "data": {
            "text/plain": [
              "<matplotlib.axes._subplots.AxesSubplot at 0x7f6aa790d510>"
            ]
          },
          "metadata": {},
          "execution_count": 15
        },
        {
          "output_type": "display_data",
          "data": {
            "image/png": "[encoded data removed]",
            "text/plain": [
              "<Figure size 1080x360 with 1 Axes>"
            ]
          },
          "metadata": {
            "needs_background": "light"
          }
        }
      ]
    },
    {
      "cell_type": "markdown",
      "metadata": {
        "id": "X3O7EWIi2a2E"
      },
      "source": [
        "# 5. WHICH PLAYER HAS WON MOST NO. OF GOLD MEDAL?(TOP 5)"
      ]
    },
    {
      "cell_type": "code",
      "metadata": {
        "id": "7ZLw_EDJ2my6",
        "colab": {
          "base_uri": "https://localhost:8080/",
          "height": 543
        },
        "outputId": "06e71e25-e507-47cc-8617-4fa481fe81c5"
      },
      "source": [
        "data = []\n",
        "pg = df[df['Medal'] == 'Gold']\n",
        "\n",
        "for k in pg['Athlete'].unique():\n",
        "  data.append([k , len(pg[pg['Athlete']== k])])\n",
        "\n",
        "data = pd.DataFrame(data, columns = ['Athlete', 'No. of Gold Medals'])\n",
        "data = data.sort_values(by = 'No. of Gold Medals' , ascending = False ).head()\n",
        "print(\"THE PLAYERS WHO HAVE WON MOST NUMBER OF GOLD MEDALS ARE:\")\n",
        "print(data)\n",
        "data.plot(x = 'Athlete' , y ='No. of Gold Medals' , kind='bar' , figsize=(15,5), color =\"violet\")"
      ],
      "execution_count": 16,
      "outputs": [
        {
          "output_type": "stream",
          "name": "stdout",
          "text": [
            "THE PLAYERS WHO HAVE WON MOST NUMBER OF GOLD MEDALS ARE:\n",
            "               Athlete  No. of Gold Medals\n",
            "6851   PHELPS, Michael                  18\n",
            "3320       SPITZ, Mark                   9\n",
            "2714  LATYNINA, Larisa                   9\n",
            "4630       LEWIS, Carl                   9\n",
            "907       NURMI, Paavo                   9\n"
          ]
        },
        {
          "output_type": "execute_result",
          "data": {
            "text/plain": [
              "<matplotlib.axes._subplots.AxesSubplot at 0x7f6aa74dff90>"
            ]
          },
          "metadata": {},
          "execution_count": 16
        },
        {
          "output_type": "display_data",
          "data": {
            "image/png": "[encoded data removed]",
            "text/plain": [
              "<Figure size 1080x360 with 1 Axes>"
            ]
          },
          "metadata": {
            "needs_background": "light"
          }
        }
      ]
    },
    {
      "cell_type": "markdown",
      "metadata": {
        "id": "M-DGIzJQ4MtH"
      },
      "source": [
        "# 6. IN WHICH YEAR INDIA WON FIRST GOLD MEDAL"
      ]
    },
    {
      "cell_type": "code",
      "metadata": {
        "id": "rww9YkkoIXKo",
        "colab": {
          "base_uri": "https://localhost:8080/"
        },
        "outputId": "cc3b619d-53ec-4533-d8b0-b1fa89376a76"
      },
      "source": [
        "sg = df[df['Medal'] == 'Gold']\n",
        "sg = sg[sg['Country'] == 'IND']\n",
        "\n",
        "print(\"IN \" ,sg['Year'].min() , \"INDIA WON ITS FIRST GOLD MEDAL.\")\n"
      ],
      "execution_count": null,
      "outputs": [
        {
          "output_type": "stream",
          "name": "stdout",
          "text": [
            "IN  1928 INDIA WON ITS FIRST GOLD MEDAL.\n"
          ]
        }
      ]
    },
    {
      "cell_type": "markdown",
      "metadata": {
        "id": "7rrmdP7W9HGD"
      },
      "source": [
        "# 7. WHICH EVENT IS MOST POPULAR EVENT IN TERMS OF PLAYER"
      ]
    },
    {
      "cell_type": "code",
      "metadata": {
        "colab": {
          "base_uri": "https://localhost:8080/",
          "height": 469
        },
        "id": "iOLk5Pzv9F8O",
        "outputId": "0af744f3-d871-4342-b715-bd1f6eec619e"
      },
      "source": [
        "E =[]\n",
        "for k in df['Event'].unique():\n",
        "  E.append([k , len(df[df['Event']== k])])\n",
        "\n",
        "\n",
        "E = pd.DataFrame(E, columns = ['Event', 'No. players participated'])\n",
        "E = E.sort_values(by = 'No. players participated' , ascending = False ).head()\n",
        "print(\"THE MOST POPULAR EVENT ARE:\")\n",
        "print(E)\n",
        "E.plot(x = 'Event' , y ='No. players participated' , figsize=(15,5))"
      ],
      "execution_count": 17,
      "outputs": [
        {
          "output_type": "stream",
          "name": "stdout",
          "text": [
            "THE MOST POPULAR EVENT ARE:\n",
            "                Event  No. players participated\n",
            "80           Football                      1497\n",
            "176            Hockey                      1422\n",
            "138  Team Competition                      1147\n",
            "327        Basketball                      1012\n",
            "337          Handball                       973\n"
          ]
        },
        {
          "output_type": "execute_result",
          "data": {
            "text/plain": [
              "<matplotlib.axes._subplots.AxesSubplot at 0x7f6aa723ec90>"
            ]
          },
          "metadata": {},
          "execution_count": 17
        },
        {
          "output_type": "display_data",
          "data": {
            "image/png": "[encoded data removed]",
            "text/plain": [
              "<Figure size 1080x360 with 1 Axes>"
            ]
          },
          "metadata": {
            "needs_background": "light"
          }
        }
      ]
    },
    {
      "cell_type": "markdown",
      "metadata": {
        "id": "Fs4np8ZDfwSL"
      },
      "source": [
        "# 8. WHICH SPORT IS HAVING MOST FEMALE GOLD MEDALIST?"
      ]
    },
    {
      "cell_type": "code",
      "metadata": {
        "colab": {
          "base_uri": "https://localhost:8080/",
          "height": 517
        },
        "id": "yz_Xz6CHf3lc",
        "outputId": "e21a37be-4bdf-4b3c-9046-c22639ec7c9d"
      },
      "source": [
        "S =[]\n",
        "gd = df[df['Medal'] == 'Gold']\n",
        "fm = gd[gd['Gender'] == 'Women']\n",
        "\n",
        "for i in fm['Sport'].unique():\n",
        "  S.append([i , len(fm[fm['Sport'] == i])])\n",
        "\n",
        "S = pd.DataFrame(S, columns = ['Sport' , 'No. women gold medalist'])\n",
        "S = S.sort_values(by = 'No. women gold medalist' , ascending = False).head()\n",
        "print(\"THE SPORT HAVING MOST FEMALE GOLD MEDALIST ARE:\")\n",
        "print(S)\n",
        "S.plot(x = 'Sport' , y ='No. women gold medalist' , kind=\"bar\" ,figsize = (15,5))"
      ],
      "execution_count": 20,
      "outputs": [
        {
          "output_type": "stream",
          "name": "stdout",
          "text": [
            "THE SPORT HAVING MOST FEMALE GOLD MEDALIST ARE:\n",
            "         Sport  No. women gold medalist\n",
            "4     Aquatics                      589\n",
            "7    Athletics                      389\n",
            "8   Gymnastics                      268\n",
            "14      Rowing                      217\n",
            "11  Volleyball                      166\n"
          ]
        },
        {
          "output_type": "execute_result",
          "data": {
            "text/plain": [
              "<matplotlib.axes._subplots.AxesSubplot at 0x7f6aa7274750>"
            ]
          },
          "metadata": {},
          "execution_count": 20
        },
        {
          "output_type": "display_data",
          "data": {
            "image/png": "[encoded data removed]",
            "text/plain": [
              "<Figure size 1080x360 with 1 Axes>"
            ]
          },
          "metadata": {
            "needs_background": "light"
          }
        }
      ]
    }
  ]
}